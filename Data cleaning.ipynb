{
 "cells": [
  {
   "cell_type": "code",
   "execution_count": 166,
   "metadata": {},
   "outputs": [],
   "source": [
    "import numpy as np\n",
    "import pandas as pd\n",
    "import matplotlib.pyplot as plt\n",
    "import seaborn as sns"
   ]
  },
  {
   "cell_type": "code",
   "execution_count": 167,
   "metadata": {},
   "outputs": [],
   "source": [
    "df = pd.read_csv('D:\\Data science\\csv\\smartphone_raw_data.csv')\n",
    "df1 = df\n",
    "\n",
    "pd.set_option('display.max_rows', 20)"
   ]
  },
  {
   "cell_type": "markdown",
   "metadata": {},
   "source": [
    "## Data Assessing\n",
    "\n",
    "### Quality Issues\n",
    "\n",
    "1. **model** - some brands are written diiferently like OPPO in model column `consistency`\n",
    "2. **price** - has unneccesary '₹' `validity`\n",
    "3. **price** - has ',' between numbers `validity`\n",
    "4. **price** - phone Namotel has a price of 99 `accuracy`\n",
    "5. **ratings** - missing values `completeness`\n",
    "6. **processor** - has some incorrect values for some samsung phones(row # -642,647,649,659,667,701,750,759,819,859,883,884,919,927,929,932,1002) `validity`\n",
    "7. There is ipod on row 756 `validity`\n",
    "8. **memory** - incorrect values in rows (441,485,534,553,584,610,613,642,647,649,659,667,701,750,759,819,859,884,919,927,929,932,990,1002) `validity`\n",
    "9. **battery** - incorrect values in rows(113,151,309,365,378,441,450,553,584,610,613,630,642,647,649,659,667,701,750,756,759,764,819,855,859,884,915,916,927,929,932,990,1002) `validity`\n",
    "10. **display** - sometimes frequency is not available `completeness`\n",
    "11. **display** - incorrect values in rows(378,441,450,553,584,610,613,630,642,647,649,659,667,701,750,759,764,819,859,884,915,916,927,929,932,990,1002) `validity`\n",
    "12. certain phones are foldable and the info is scattered `validity`\n",
    "13. **camera** - words like Dual, Triple and Quad are used to represent number of cameras and front and rear cameras are separated by '&'\n",
    "14. **camera** - problem with rows (100,113,151,157,161,238,273,308,309,323,324,365,367,378,394,441,450,484,506,534,553,571,572,575,584,610,613,615,630,642,647,649,659,667,684,687,705,711,723,728,750,756,759,764,792,819,846,854,855,858,883,884,896,915,916,927,929,932,945,956,990,995,1002,1016\n",
    ") `validity`\n",
    "15. **card** - sometimes contains info about os and camera `validity`\n",
    "16. **os** - sometimes contains info about bluetooth and fm radio `validity`\n",
    "17. **os** - issue with rows (324,378) `validity`\n",
    "18. **os** - sometimes contains os version name like lollipop `consistency`\n",
    "19. missing values in camera, card and os `completeness`\n",
    "20. datatype  of price and rating is incorrect `validity`\n",
    "\n",
    "\n",
    "\n",
    "### Tidiness Issues\n",
    "\n",
    "1. **sim** - can be split into 3 cols has_5g, has_NFC, has_IR_Blaster\n",
    "2. **ram** - can be split into 2 cols RAM and ROM\n",
    "3. **processor** - can be split into processor name, cores and cpu speed.\n",
    "4. **battery** - can be split into battery capacity, fast_charging_available\n",
    "5. **display** - can be split into size, resolution_width, resolution_height and frequency\n",
    "6. **camera** - can be split into front and rear camera\n",
    "7. **card** - can be split into supported, extended_upto"
   ]
  },
  {
   "cell_type": "code",
   "execution_count": 168,
   "metadata": {},
   "outputs": [],
   "source": [
    "df['price']= df['price'].str.replace('₹','').str.replace(',','').astype(int)"
   ]
  },
  {
   "cell_type": "code",
   "execution_count": 169,
   "metadata": {},
   "outputs": [
    {
     "name": "stdout",
     "output_type": "stream",
     "text": [
      "<class 'pandas.core.frame.DataFrame'>\n",
      "RangeIndex: 1020 entries, 0 to 1019\n",
      "Data columns (total 11 columns):\n",
      " #   Column     Non-Null Count  Dtype  \n",
      "---  ------     --------------  -----  \n",
      " 0   model      1020 non-null   object \n",
      " 1   price      1020 non-null   int32  \n",
      " 2   rating     879 non-null    float64\n",
      " 3   sim        1020 non-null   object \n",
      " 4   processor  1020 non-null   object \n",
      " 5   ram        1020 non-null   object \n",
      " 6   battery    1020 non-null   object \n",
      " 7   display    1020 non-null   object \n",
      " 8   camera     1019 non-null   object \n",
      " 9   card       1013 non-null   object \n",
      " 10  os         1003 non-null   object \n",
      "dtypes: float64(1), int32(1), object(9)\n",
      "memory usage: 83.8+ KB\n"
     ]
    }
   ],
   "source": [
    "df.info()"
   ]
  },
  {
   "cell_type": "code",
   "execution_count": 170,
   "metadata": {},
   "outputs": [],
   "source": [
    "df = df.reset_index()"
   ]
  },
  {
   "cell_type": "code",
   "execution_count": 171,
   "metadata": {},
   "outputs": [],
   "source": [
    "df['index'] = df['index'] + 2"
   ]
  },
  {
   "cell_type": "code",
   "execution_count": 172,
   "metadata": {},
   "outputs": [],
   "source": [
    "processor_row = set((642,647,649,659,667,701,750,759,819,859,883,884,919,927,929,932,1002))\n",
    "memory_row = set((441,485,534,553,584,610,613,642,647,649,659,667,701,750,759,819,859,884,919,927,929,932,990,1002))\n",
    "battery_row = set((113,151,309,365,378,441,450,553,584,610,613,630,642,647,649,659,667,701,750,756,759,764,819,855,859,884,915,916,927,929,932,990,1002))\n",
    "display_row = set((378,441,450,553,584,610,613,630,642,647,649,659,667,701,750,759,764,819,859,884,915,916,927,929,932,990,1002))\n",
    "camera_row = set((100,113,151,157,161,238,273,308,309,323,324,365,367,378,394,441,450,484,506,534,553,571,572,575,584,610,613,615,630,642,647,649,659,667,684,687,705,711,723,728,750,756,759,764,792,819,846,854,855,858,883,884,896,915,916,927,929,932,945,956,990,995,1002,1016\n",
    "))"
   ]
  },
  {
   "cell_type": "code",
   "execution_count": 173,
   "metadata": {},
   "outputs": [
    {
     "data": {
      "text/html": [
       "<div>\n",
       "<style scoped>\n",
       "    .dataframe tbody tr th:only-of-type {\n",
       "        vertical-align: middle;\n",
       "    }\n",
       "\n",
       "    .dataframe tbody tr th {\n",
       "        vertical-align: top;\n",
       "    }\n",
       "\n",
       "    .dataframe thead th {\n",
       "        text-align: right;\n",
       "    }\n",
       "</style>\n",
       "<table border=\"1\" class=\"dataframe\">\n",
       "  <thead>\n",
       "    <tr style=\"text-align: right;\">\n",
       "      <th></th>\n",
       "      <th>index</th>\n",
       "      <th>model</th>\n",
       "      <th>price</th>\n",
       "      <th>rating</th>\n",
       "      <th>sim</th>\n",
       "      <th>processor</th>\n",
       "      <th>ram</th>\n",
       "      <th>battery</th>\n",
       "      <th>display</th>\n",
       "      <th>camera</th>\n",
       "      <th>card</th>\n",
       "      <th>os</th>\n",
       "    </tr>\n",
       "  </thead>\n",
       "  <tbody>\n",
       "    <tr>\n",
       "      <th>98</th>\n",
       "      <td>100</td>\n",
       "      <td>Vivo X Fold 5G</td>\n",
       "      <td>106990</td>\n",
       "      <td>NaN</td>\n",
       "      <td>Dual Sim, 3G, 4G, 5G, VoLTE, Wi-Fi, NFC</td>\n",
       "      <td>Snapdragon 8 Gen1, Octa Core, 3 GHz Processor</td>\n",
       "      <td>12 GB RAM, 256 GB inbuilt</td>\n",
       "      <td>4600 mAh Battery with 66W Fast Charging</td>\n",
       "      <td>8.03 inches, 1916 x 2160 px, 120 Hz Display</td>\n",
       "      <td>Foldable Display</td>\n",
       "      <td>50 MP Quad Rear &amp; 16 MP Front Camera</td>\n",
       "      <td>Android v12</td>\n",
       "    </tr>\n",
       "    <tr>\n",
       "      <th>111</th>\n",
       "      <td>113</td>\n",
       "      <td>Apple iPhone 12</td>\n",
       "      <td>51999</td>\n",
       "      <td>74.0</td>\n",
       "      <td>Dual Sim, 3G, 4G, 5G, VoLTE, Wi-Fi, NFC</td>\n",
       "      <td>Bionic A14, Hexa Core, 3.1 GHz Processor</td>\n",
       "      <td>4 GB RAM, 64 GB inbuilt</td>\n",
       "      <td>6.1 inches, 1170 x 2532 px Display with Large ...</td>\n",
       "      <td>12 MP + 12 MP Dual Rear &amp; 12 MP Front Camera</td>\n",
       "      <td>Memory Card Not Supported</td>\n",
       "      <td>iOS v14</td>\n",
       "      <td>No FM Radio</td>\n",
       "    </tr>\n",
       "    <tr>\n",
       "      <th>149</th>\n",
       "      <td>151</td>\n",
       "      <td>Apple iPhone 12 Mini</td>\n",
       "      <td>40999</td>\n",
       "      <td>74.0</td>\n",
       "      <td>Dual Sim, 3G, 4G, 5G, VoLTE, Wi-Fi, NFC</td>\n",
       "      <td>Bionic A14, Hexa Core, 3.1 GHz Processor</td>\n",
       "      <td>4 GB RAM, 64 GB inbuilt</td>\n",
       "      <td>5.4 inches, 1080 x 2340 px Display</td>\n",
       "      <td>12 MP + 12 MP Dual Rear &amp; 12 MP Front Camera</td>\n",
       "      <td>Memory Card Not Supported</td>\n",
       "      <td>iOS v14</td>\n",
       "      <td>No FM Radio</td>\n",
       "    </tr>\n",
       "    <tr>\n",
       "      <th>155</th>\n",
       "      <td>157</td>\n",
       "      <td>Nokia 2780 Flip</td>\n",
       "      <td>4990</td>\n",
       "      <td>NaN</td>\n",
       "      <td>Dual Sim, 3G, 4G, Wi-Fi</td>\n",
       "      <td>Snapdragon QM215, Quad Core, 1.3 GHz Processor</td>\n",
       "      <td>4 GB RAM, 512 MB inbuilt</td>\n",
       "      <td>1450 mAh Battery</td>\n",
       "      <td>2.7 inches, 240 x 320 px Display</td>\n",
       "      <td>Dual Display</td>\n",
       "      <td>5 MP Rear Camera</td>\n",
       "      <td>Memory Card Supported, upto 32 GB</td>\n",
       "    </tr>\n",
       "    <tr>\n",
       "      <th>159</th>\n",
       "      <td>161</td>\n",
       "      <td>Oppo Find N2 5G</td>\n",
       "      <td>94990</td>\n",
       "      <td>NaN</td>\n",
       "      <td>Dual Sim, 3G, 4G, 5G, VoLTE, Wi-Fi, NFC</td>\n",
       "      <td>Snapdragon 8+ Gen1, Octa Core, 3.2 GHz Processor</td>\n",
       "      <td>12 GB RAM, 256 GB inbuilt</td>\n",
       "      <td>4520 mAh Battery with 67W Fast Charging</td>\n",
       "      <td>7.1 inches, 1792 x 1920 px, 120 Hz Display wit...</td>\n",
       "      <td>Foldable Display, Dual Display</td>\n",
       "      <td>50 MP + 48 MP + 32 MP Triple Rear &amp; 32 MP + 32...</td>\n",
       "      <td>Memory Card Not Supported</td>\n",
       "    </tr>\n",
       "    <tr>\n",
       "      <th>...</th>\n",
       "      <td>...</td>\n",
       "      <td>...</td>\n",
       "      <td>...</td>\n",
       "      <td>...</td>\n",
       "      <td>...</td>\n",
       "      <td>...</td>\n",
       "      <td>...</td>\n",
       "      <td>...</td>\n",
       "      <td>...</td>\n",
       "      <td>...</td>\n",
       "      <td>...</td>\n",
       "      <td>...</td>\n",
       "    </tr>\n",
       "    <tr>\n",
       "      <th>954</th>\n",
       "      <td>956</td>\n",
       "      <td>Vivo X Fold 5G (12GB RAM + 512GB)</td>\n",
       "      <td>118990</td>\n",
       "      <td>NaN</td>\n",
       "      <td>Dual Sim, 3G, 4G, 5G, VoLTE, Wi-Fi, NFC</td>\n",
       "      <td>Snapdragon 8 Gen1, Octa Core, 3 GHz Processor</td>\n",
       "      <td>12 GB RAM, 512 GB inbuilt</td>\n",
       "      <td>4600 mAh Battery with 66W Fast Charging</td>\n",
       "      <td>8.03 inches, 1916 x 2160 px, 120 Hz Display</td>\n",
       "      <td>Foldable Display</td>\n",
       "      <td>50 MP Quad Rear &amp; 16 MP Front Camera</td>\n",
       "      <td>Android v12</td>\n",
       "    </tr>\n",
       "    <tr>\n",
       "      <th>988</th>\n",
       "      <td>990</td>\n",
       "      <td>Nokia 5310 Dual Sim</td>\n",
       "      <td>3399</td>\n",
       "      <td>NaN</td>\n",
       "      <td>Dual Sim</td>\n",
       "      <td>8 MB RAM, 16 MB inbuilt</td>\n",
       "      <td>1200 mAh Battery</td>\n",
       "      <td>2.4 inches, 240 x 320 px Display</td>\n",
       "      <td>0.3 MP Rear Camera</td>\n",
       "      <td>Memory Card Supported, upto 32 GB</td>\n",
       "      <td>Bluetooth</td>\n",
       "      <td>Browser</td>\n",
       "    </tr>\n",
       "    <tr>\n",
       "      <th>993</th>\n",
       "      <td>995</td>\n",
       "      <td>Huawei Mate X</td>\n",
       "      <td>169000</td>\n",
       "      <td>NaN</td>\n",
       "      <td>Dual Sim, 3G, 4G, 5G, VoLTE, Wi-Fi, NFC, IR Bl...</td>\n",
       "      <td>Kirin  990, Octa Core, 2.86 GHz Processor</td>\n",
       "      <td>8 GB RAM, 512 GB inbuilt</td>\n",
       "      <td>4500 mAh Battery with 55W Fast Charging</td>\n",
       "      <td>8 inches, 2200 x 2480 px Display</td>\n",
       "      <td>Foldable Display</td>\n",
       "      <td>48 MP Quad Rear Camera</td>\n",
       "      <td>Memory Card (Hybrid), upto 256 GB</td>\n",
       "    </tr>\n",
       "    <tr>\n",
       "      <th>1000</th>\n",
       "      <td>1002</td>\n",
       "      <td>XTouch F40 Flip</td>\n",
       "      <td>1999</td>\n",
       "      <td>NaN</td>\n",
       "      <td>Dual Sim</td>\n",
       "      <td>No 3G</td>\n",
       "      <td>No Wifi</td>\n",
       "      <td>32 MB RAM, 32 MB inbuilt</td>\n",
       "      <td>800 mAh Battery</td>\n",
       "      <td>1.77 inches, 240 x 320 px Display</td>\n",
       "      <td>Dual Display</td>\n",
       "      <td>1.3 MP Rear Camera</td>\n",
       "    </tr>\n",
       "    <tr>\n",
       "      <th>1014</th>\n",
       "      <td>1016</td>\n",
       "      <td>Vivo X Fold 2</td>\n",
       "      <td>119990</td>\n",
       "      <td>NaN</td>\n",
       "      <td>Dual Sim, 3G, 4G, 5G, VoLTE, Wi-Fi, NFC</td>\n",
       "      <td>Snapdragon 8 Gen2, Octa Core, 3.2 GHz Processor</td>\n",
       "      <td>12 GB RAM, 256 GB inbuilt</td>\n",
       "      <td>4800 mAh Battery with 66W Fast Charging</td>\n",
       "      <td>8.03 inches, 1916 x 2160 px, 120 Hz Display</td>\n",
       "      <td>Foldable Display</td>\n",
       "      <td>50 MP + 50 MP + 10 MP Triple Rear &amp; 32 MP Fron...</td>\n",
       "      <td>Android v12</td>\n",
       "    </tr>\n",
       "  </tbody>\n",
       "</table>\n",
       "<p>68 rows × 12 columns</p>\n",
       "</div>"
      ],
      "text/plain": [
       "      index                              model   price  rating  \\\n",
       "98      100                     Vivo X Fold 5G  106990     NaN   \n",
       "111     113                    Apple iPhone 12   51999    74.0   \n",
       "149     151               Apple iPhone 12 Mini   40999    74.0   \n",
       "155     157                    Nokia 2780 Flip    4990     NaN   \n",
       "159     161                    Oppo Find N2 5G   94990     NaN   \n",
       "...     ...                                ...     ...     ...   \n",
       "954     956  Vivo X Fold 5G (12GB RAM + 512GB)  118990     NaN   \n",
       "988     990                Nokia 5310 Dual Sim    3399     NaN   \n",
       "993     995                      Huawei Mate X  169000     NaN   \n",
       "1000   1002                    XTouch F40 Flip    1999     NaN   \n",
       "1014   1016                      Vivo X Fold 2  119990     NaN   \n",
       "\n",
       "                                                    sim  \\\n",
       "98              Dual Sim, 3G, 4G, 5G, VoLTE, Wi-Fi, NFC   \n",
       "111             Dual Sim, 3G, 4G, 5G, VoLTE, Wi-Fi, NFC   \n",
       "149             Dual Sim, 3G, 4G, 5G, VoLTE, Wi-Fi, NFC   \n",
       "155                             Dual Sim, 3G, 4G, Wi-Fi   \n",
       "159             Dual Sim, 3G, 4G, 5G, VoLTE, Wi-Fi, NFC   \n",
       "...                                                 ...   \n",
       "954             Dual Sim, 3G, 4G, 5G, VoLTE, Wi-Fi, NFC   \n",
       "988                                            Dual Sim   \n",
       "993   Dual Sim, 3G, 4G, 5G, VoLTE, Wi-Fi, NFC, IR Bl...   \n",
       "1000                                           Dual Sim   \n",
       "1014            Dual Sim, 3G, 4G, 5G, VoLTE, Wi-Fi, NFC   \n",
       "\n",
       "                                             processor  \\\n",
       "98       Snapdragon 8 Gen1, Octa Core, 3 GHz Processor   \n",
       "111           Bionic A14, Hexa Core, 3.1 GHz Processor   \n",
       "149           Bionic A14, Hexa Core, 3.1 GHz Processor   \n",
       "155     Snapdragon QM215, Quad Core, 1.3 GHz Processor   \n",
       "159   Snapdragon 8+ Gen1, Octa Core, 3.2 GHz Processor   \n",
       "...                                                ...   \n",
       "954      Snapdragon 8 Gen1, Octa Core, 3 GHz Processor   \n",
       "988                            8 MB RAM, 16 MB inbuilt   \n",
       "993          Kirin  990, Octa Core, 2.86 GHz Processor   \n",
       "1000                                             No 3G   \n",
       "1014   Snapdragon 8 Gen2, Octa Core, 3.2 GHz Processor   \n",
       "\n",
       "                            ram  \\\n",
       "98    12 GB RAM, 256 GB inbuilt   \n",
       "111     4 GB RAM, 64 GB inbuilt   \n",
       "149     4 GB RAM, 64 GB inbuilt   \n",
       "155    4 GB RAM, 512 MB inbuilt   \n",
       "159   12 GB RAM, 256 GB inbuilt   \n",
       "...                         ...   \n",
       "954   12 GB RAM, 512 GB inbuilt   \n",
       "988            1200 mAh Battery   \n",
       "993    8 GB RAM, 512 GB inbuilt   \n",
       "1000                    No Wifi   \n",
       "1014  12 GB RAM, 256 GB inbuilt   \n",
       "\n",
       "                                                battery  \\\n",
       "98              4600 mAh Battery with 66W Fast Charging   \n",
       "111   6.1 inches, 1170 x 2532 px Display with Large ...   \n",
       "149                  5.4 inches, 1080 x 2340 px Display   \n",
       "155                                    1450 mAh Battery   \n",
       "159             4520 mAh Battery with 67W Fast Charging   \n",
       "...                                                 ...   \n",
       "954             4600 mAh Battery with 66W Fast Charging   \n",
       "988                    2.4 inches, 240 x 320 px Display   \n",
       "993             4500 mAh Battery with 55W Fast Charging   \n",
       "1000                           32 MB RAM, 32 MB inbuilt   \n",
       "1014            4800 mAh Battery with 66W Fast Charging   \n",
       "\n",
       "                                                display  \\\n",
       "98          8.03 inches, 1916 x 2160 px, 120 Hz Display   \n",
       "111        12 MP + 12 MP Dual Rear & 12 MP Front Camera   \n",
       "149        12 MP + 12 MP Dual Rear & 12 MP Front Camera   \n",
       "155                    2.7 inches, 240 x 320 px Display   \n",
       "159   7.1 inches, 1792 x 1920 px, 120 Hz Display wit...   \n",
       "...                                                 ...   \n",
       "954         8.03 inches, 1916 x 2160 px, 120 Hz Display   \n",
       "988                                  0.3 MP Rear Camera   \n",
       "993                    8 inches, 2200 x 2480 px Display   \n",
       "1000                                    800 mAh Battery   \n",
       "1014        8.03 inches, 1916 x 2160 px, 120 Hz Display   \n",
       "\n",
       "                                 camera  \\\n",
       "98                     Foldable Display   \n",
       "111           Memory Card Not Supported   \n",
       "149           Memory Card Not Supported   \n",
       "155                        Dual Display   \n",
       "159      Foldable Display, Dual Display   \n",
       "...                                 ...   \n",
       "954                    Foldable Display   \n",
       "988   Memory Card Supported, upto 32 GB   \n",
       "993                    Foldable Display   \n",
       "1000  1.77 inches, 240 x 320 px Display   \n",
       "1014                   Foldable Display   \n",
       "\n",
       "                                                   card  \\\n",
       "98                 50 MP Quad Rear & 16 MP Front Camera   \n",
       "111                                             iOS v14   \n",
       "149                                             iOS v14   \n",
       "155                                    5 MP Rear Camera   \n",
       "159   50 MP + 48 MP + 32 MP Triple Rear & 32 MP + 32...   \n",
       "...                                                 ...   \n",
       "954                50 MP Quad Rear & 16 MP Front Camera   \n",
       "988                                           Bluetooth   \n",
       "993                              48 MP Quad Rear Camera   \n",
       "1000                                       Dual Display   \n",
       "1014  50 MP + 50 MP + 10 MP Triple Rear & 32 MP Fron...   \n",
       "\n",
       "                                     os  \n",
       "98                          Android v12  \n",
       "111                         No FM Radio  \n",
       "149                         No FM Radio  \n",
       "155   Memory Card Supported, upto 32 GB  \n",
       "159           Memory Card Not Supported  \n",
       "...                                 ...  \n",
       "954                         Android v12  \n",
       "988                             Browser  \n",
       "993   Memory Card (Hybrid), upto 256 GB  \n",
       "1000                 1.3 MP Rear Camera  \n",
       "1014                        Android v12  \n",
       "\n",
       "[68 rows x 12 columns]"
      ]
     },
     "execution_count": 173,
     "metadata": {},
     "output_type": "execute_result"
    }
   ],
   "source": [
    "# combining all the rows to get a big picture view\n",
    "\n",
    "df[df['index'].isin(processor_row | memory_row | battery_row | display_row | camera_row)]"
   ]
  },
  {
   "cell_type": "code",
   "execution_count": 174,
   "metadata": {},
   "outputs": [
    {
     "data": {
      "text/plain": [
       "array([ 642,  647,  649,  659,  667,  750,  759,  819,  884,  927,  929,\n",
       "        932, 1002], dtype=int64)"
      ]
     },
     "execution_count": 174,
     "metadata": {},
     "output_type": "execute_result"
    }
   ],
   "source": [
    "# finding common rows between all rows\n",
    "df[df['index'].isin(processor_row & memory_row & battery_row & display_row & camera_row)]['index'].values"
   ]
  },
  {
   "cell_type": "code",
   "execution_count": 175,
   "metadata": {},
   "outputs": [],
   "source": [
    "# we have dropped all the phones having value less then 3400\n",
    "df = df[df['price'] >= 3400]"
   ]
  },
  {
   "cell_type": "code",
   "execution_count": 176,
   "metadata": {},
   "outputs": [
    {
     "data": {
      "text/html": [
       "<div>\n",
       "<style scoped>\n",
       "    .dataframe tbody tr th:only-of-type {\n",
       "        vertical-align: middle;\n",
       "    }\n",
       "\n",
       "    .dataframe tbody tr th {\n",
       "        vertical-align: top;\n",
       "    }\n",
       "\n",
       "    .dataframe thead th {\n",
       "        text-align: right;\n",
       "    }\n",
       "</style>\n",
       "<table border=\"1\" class=\"dataframe\">\n",
       "  <thead>\n",
       "    <tr style=\"text-align: right;\">\n",
       "      <th></th>\n",
       "      <th>index</th>\n",
       "      <th>model</th>\n",
       "      <th>price</th>\n",
       "      <th>rating</th>\n",
       "      <th>sim</th>\n",
       "      <th>processor</th>\n",
       "      <th>ram</th>\n",
       "      <th>battery</th>\n",
       "      <th>display</th>\n",
       "      <th>camera</th>\n",
       "      <th>card</th>\n",
       "      <th>os</th>\n",
       "    </tr>\n",
       "  </thead>\n",
       "  <tbody>\n",
       "    <tr>\n",
       "      <th>582</th>\n",
       "      <td>584</td>\n",
       "      <td>Nokia 8210 4G</td>\n",
       "      <td>3749</td>\n",
       "      <td>NaN</td>\n",
       "      <td>Dual Sim, 3G, 4G</td>\n",
       "      <td>No Wifi</td>\n",
       "      <td>Unisoc T107</td>\n",
       "      <td>48 MB RAM, 128 MB inbuilt</td>\n",
       "      <td>1450 mAh Battery</td>\n",
       "      <td>2.8 inches, 240 x 320 px Display</td>\n",
       "      <td>0.3 MP Rear Camera</td>\n",
       "      <td>Memory Card Supported, upto 32 GB</td>\n",
       "    </tr>\n",
       "    <tr>\n",
       "      <th>627</th>\n",
       "      <td>629</td>\n",
       "      <td>Nokia 225 4G</td>\n",
       "      <td>3589</td>\n",
       "      <td>NaN</td>\n",
       "      <td>Dual Sim, 3G, 4G, VoLTE</td>\n",
       "      <td>Unisoc T117</td>\n",
       "      <td>64 MB RAM, 128 MB inbuilt</td>\n",
       "      <td>1150 mAh Battery</td>\n",
       "      <td>2.4 inches, 240 x 320 px Display</td>\n",
       "      <td>0.3 MP Rear Camera</td>\n",
       "      <td>Memory Card Supported, upto 32 GB</td>\n",
       "      <td>RTOS (Series 30+)</td>\n",
       "    </tr>\n",
       "    <tr>\n",
       "      <th>925</th>\n",
       "      <td>927</td>\n",
       "      <td>Nokia 3310 4G</td>\n",
       "      <td>3999</td>\n",
       "      <td>NaN</td>\n",
       "      <td>Dual Sim, 3G, 4G, VoLTE, Wi-Fi</td>\n",
       "      <td>256 MB RAM, 512 MB inbuilt</td>\n",
       "      <td>1200 mAh Battery</td>\n",
       "      <td>2.4 inches, 240 x 320 px Display</td>\n",
       "      <td>2 MP Rear Camera</td>\n",
       "      <td>Memory Card Supported, upto 32 GB</td>\n",
       "      <td>Bluetooth</td>\n",
       "      <td>Browser</td>\n",
       "    </tr>\n",
       "  </tbody>\n",
       "</table>\n",
       "</div>"
      ],
      "text/plain": [
       "     index          model  price  rating                             sim  \\\n",
       "582    584  Nokia 8210 4G   3749     NaN                Dual Sim, 3G, 4G   \n",
       "627    629   Nokia 225 4G   3589     NaN         Dual Sim, 3G, 4G, VoLTE   \n",
       "925    927  Nokia 3310 4G   3999     NaN  Dual Sim, 3G, 4G, VoLTE, Wi-Fi   \n",
       "\n",
       "                      processor                        ram  \\\n",
       "582                     No Wifi                Unisoc T107   \n",
       "627                 Unisoc T117  64 MB RAM, 128 MB inbuilt   \n",
       "925  256 MB RAM, 512 MB inbuilt           1200 mAh Battery   \n",
       "\n",
       "                              battery                           display  \\\n",
       "582         48 MB RAM, 128 MB inbuilt                  1450 mAh Battery   \n",
       "627                  1150 mAh Battery  2.4 inches, 240 x 320 px Display   \n",
       "925  2.4 inches, 240 x 320 px Display                  2 MP Rear Camera   \n",
       "\n",
       "                                camera                               card  \\\n",
       "582   2.8 inches, 240 x 320 px Display                 0.3 MP Rear Camera   \n",
       "627                 0.3 MP Rear Camera  Memory Card Supported, upto 32 GB   \n",
       "925  Memory Card Supported, upto 32 GB                          Bluetooth   \n",
       "\n",
       "                                    os  \n",
       "582  Memory Card Supported, upto 32 GB  \n",
       "627                  RTOS (Series 30+)  \n",
       "925                            Browser  "
      ]
     },
     "execution_count": 176,
     "metadata": {},
     "output_type": "execute_result"
    }
   ],
   "source": [
    "df[df['model'].str.contains('Nokia') & (df['price'] < 4000)]"
   ]
  },
  {
   "cell_type": "code",
   "execution_count": 177,
   "metadata": {},
   "outputs": [],
   "source": [
    "# key pad phones\n",
    "df.drop(index=[580, 625, 923,907,645,882,925,857,582,155,376,271,754],inplace=True)"
   ]
  },
  {
   "cell_type": "code",
   "execution_count": 178,
   "metadata": {},
   "outputs": [],
   "source": [
    "temp_df = df[df['index'].isin(battery_row)]"
   ]
  },
  {
   "cell_type": "code",
   "execution_count": 179,
   "metadata": {},
   "outputs": [],
   "source": [
    "x = temp_df.iloc[:,7:].shift(1,axis=1).values"
   ]
  },
  {
   "cell_type": "code",
   "execution_count": 180,
   "metadata": {},
   "outputs": [],
   "source": [
    "df.loc[temp_df.index,temp_df.columns[7:]] = x"
   ]
  },
  {
   "cell_type": "code",
   "execution_count": 181,
   "metadata": {},
   "outputs": [
    {
     "data": {
      "text/html": [
       "<div>\n",
       "<style scoped>\n",
       "    .dataframe tbody tr th:only-of-type {\n",
       "        vertical-align: middle;\n",
       "    }\n",
       "\n",
       "    .dataframe tbody tr th {\n",
       "        vertical-align: top;\n",
       "    }\n",
       "\n",
       "    .dataframe thead th {\n",
       "        text-align: right;\n",
       "    }\n",
       "</style>\n",
       "<table border=\"1\" class=\"dataframe\">\n",
       "  <thead>\n",
       "    <tr style=\"text-align: right;\">\n",
       "      <th></th>\n",
       "      <th>index</th>\n",
       "      <th>model</th>\n",
       "      <th>price</th>\n",
       "      <th>rating</th>\n",
       "      <th>sim</th>\n",
       "      <th>processor</th>\n",
       "      <th>ram</th>\n",
       "      <th>battery</th>\n",
       "      <th>display</th>\n",
       "      <th>camera</th>\n",
       "      <th>card</th>\n",
       "      <th>os</th>\n",
       "    </tr>\n",
       "  </thead>\n",
       "  <tbody>\n",
       "    <tr>\n",
       "      <th>439</th>\n",
       "      <td>441</td>\n",
       "      <td>Apple iPhone SE 3 2022</td>\n",
       "      <td>43900</td>\n",
       "      <td>NaN</td>\n",
       "      <td>Dual Sim, 3G, 4G, 5G, VoLTE, Wi-Fi, NFC</td>\n",
       "      <td>Bionic  A15, Hexa Core, 3.22 GHz Processor</td>\n",
       "      <td>64 GB inbuilt</td>\n",
       "      <td>None</td>\n",
       "      <td>4.7 inches, 750 x 1334 px Display</td>\n",
       "      <td>12 MP Rear &amp; 7 MP Front Camera</td>\n",
       "      <td>Memory Card Not Supported</td>\n",
       "      <td>iOS v15</td>\n",
       "    </tr>\n",
       "    <tr>\n",
       "      <th>448</th>\n",
       "      <td>450</td>\n",
       "      <td>Apple iPhone 15 Pro</td>\n",
       "      <td>130990</td>\n",
       "      <td>75.0</td>\n",
       "      <td>Dual Sim, 3G, 4G, 5G, VoLTE, Wi-Fi, NFC</td>\n",
       "      <td>Bionic  A16</td>\n",
       "      <td>8 GB RAM, 128 GB inbuilt</td>\n",
       "      <td>None</td>\n",
       "      <td>6.06 inches, 1170 x 2532 px, 120 Hz Display wi...</td>\n",
       "      <td>50 MP + 12 MP + 12 MP Triple Rear &amp; 12 MP Fron...</td>\n",
       "      <td>Memory Card Not Supported</td>\n",
       "      <td>iOS v15</td>\n",
       "    </tr>\n",
       "    <tr>\n",
       "      <th>628</th>\n",
       "      <td>630</td>\n",
       "      <td>Apple iPhone 12 Pro (512GB)</td>\n",
       "      <td>139900</td>\n",
       "      <td>80.0</td>\n",
       "      <td>Dual Sim, 3G, 4G, 5G, VoLTE, Wi-Fi, NFC</td>\n",
       "      <td>Bionic A14, Hexa Core, 3.1 GHz Processor</td>\n",
       "      <td>6 GB RAM, 512 GB inbuilt</td>\n",
       "      <td>None</td>\n",
       "      <td>6.1 inches, 1170 x 2532 px Display with Large ...</td>\n",
       "      <td>12 MP + 12 MP + 12 MP Triple Rear &amp; 12 MP Fron...</td>\n",
       "      <td>Memory Card Not Supported</td>\n",
       "      <td>iOS v14.0</td>\n",
       "    </tr>\n",
       "    <tr>\n",
       "      <th>762</th>\n",
       "      <td>764</td>\n",
       "      <td>Apple iPhone SE 4</td>\n",
       "      <td>49990</td>\n",
       "      <td>60.0</td>\n",
       "      <td>Dual Sim, 3G, 4G, 5G, VoLTE, Wi-Fi, NFC</td>\n",
       "      <td>Bionic  A15, Hexa Core, 3.22 GHz Processor</td>\n",
       "      <td>64 GB inbuilt</td>\n",
       "      <td>None</td>\n",
       "      <td>6.1 inches, 750 x 1580 px Display</td>\n",
       "      <td>12 MP Rear &amp; 10.8 MP Front Camera</td>\n",
       "      <td>Memory Card Not Supported</td>\n",
       "      <td>iOS v16</td>\n",
       "    </tr>\n",
       "    <tr>\n",
       "      <th>913</th>\n",
       "      <td>915</td>\n",
       "      <td>Apple iPhone 12 Mini (256GB)</td>\n",
       "      <td>55999</td>\n",
       "      <td>75.0</td>\n",
       "      <td>Dual Sim, 3G, 4G, 5G, VoLTE, Wi-Fi, NFC</td>\n",
       "      <td>Bionic A14, Hexa Core, 3.1 GHz Processor</td>\n",
       "      <td>4 GB RAM, 256 GB inbuilt</td>\n",
       "      <td>None</td>\n",
       "      <td>5.4 inches, 1080 x 2340 px Display</td>\n",
       "      <td>12 MP + 12 MP Dual Rear &amp; 12 MP Front Camera</td>\n",
       "      <td>Memory Card Not Supported</td>\n",
       "      <td>iOS v14</td>\n",
       "    </tr>\n",
       "    <tr>\n",
       "      <th>914</th>\n",
       "      <td>916</td>\n",
       "      <td>Apple iPhone 12 (256GB)</td>\n",
       "      <td>67999</td>\n",
       "      <td>76.0</td>\n",
       "      <td>Dual Sim, 3G, 4G, 5G, VoLTE, Wi-Fi, NFC</td>\n",
       "      <td>Bionic A14, Hexa Core, 3.1 GHz Processor</td>\n",
       "      <td>4 GB RAM, 256 GB inbuilt</td>\n",
       "      <td>None</td>\n",
       "      <td>6.1 inches, 1170 x 2532 px Display with Large ...</td>\n",
       "      <td>12 MP + 12 MP Dual Rear &amp; 12 MP Front Camera</td>\n",
       "      <td>Memory Card Not Supported</td>\n",
       "      <td>iOS v14</td>\n",
       "    </tr>\n",
       "  </tbody>\n",
       "</table>\n",
       "</div>"
      ],
      "text/plain": [
       "     index                         model   price  rating  \\\n",
       "439    441        Apple iPhone SE 3 2022   43900     NaN   \n",
       "448    450           Apple iPhone 15 Pro  130990    75.0   \n",
       "628    630   Apple iPhone 12 Pro (512GB)  139900    80.0   \n",
       "762    764             Apple iPhone SE 4   49990    60.0   \n",
       "913    915  Apple iPhone 12 Mini (256GB)   55999    75.0   \n",
       "914    916       Apple iPhone 12 (256GB)   67999    76.0   \n",
       "\n",
       "                                         sim  \\\n",
       "439  Dual Sim, 3G, 4G, 5G, VoLTE, Wi-Fi, NFC   \n",
       "448  Dual Sim, 3G, 4G, 5G, VoLTE, Wi-Fi, NFC   \n",
       "628  Dual Sim, 3G, 4G, 5G, VoLTE, Wi-Fi, NFC   \n",
       "762  Dual Sim, 3G, 4G, 5G, VoLTE, Wi-Fi, NFC   \n",
       "913  Dual Sim, 3G, 4G, 5G, VoLTE, Wi-Fi, NFC   \n",
       "914  Dual Sim, 3G, 4G, 5G, VoLTE, Wi-Fi, NFC   \n",
       "\n",
       "                                      processor                       ram  \\\n",
       "439  Bionic  A15, Hexa Core, 3.22 GHz Processor             64 GB inbuilt   \n",
       "448                                 Bionic  A16  8 GB RAM, 128 GB inbuilt   \n",
       "628    Bionic A14, Hexa Core, 3.1 GHz Processor  6 GB RAM, 512 GB inbuilt   \n",
       "762  Bionic  A15, Hexa Core, 3.22 GHz Processor             64 GB inbuilt   \n",
       "913    Bionic A14, Hexa Core, 3.1 GHz Processor  4 GB RAM, 256 GB inbuilt   \n",
       "914    Bionic A14, Hexa Core, 3.1 GHz Processor  4 GB RAM, 256 GB inbuilt   \n",
       "\n",
       "    battery                                            display  \\\n",
       "439    None                  4.7 inches, 750 x 1334 px Display   \n",
       "448    None  6.06 inches, 1170 x 2532 px, 120 Hz Display wi...   \n",
       "628    None  6.1 inches, 1170 x 2532 px Display with Large ...   \n",
       "762    None                  6.1 inches, 750 x 1580 px Display   \n",
       "913    None                 5.4 inches, 1080 x 2340 px Display   \n",
       "914    None  6.1 inches, 1170 x 2532 px Display with Large ...   \n",
       "\n",
       "                                                camera  \\\n",
       "439                     12 MP Rear & 7 MP Front Camera   \n",
       "448  50 MP + 12 MP + 12 MP Triple Rear & 12 MP Fron...   \n",
       "628  12 MP + 12 MP + 12 MP Triple Rear & 12 MP Fron...   \n",
       "762                  12 MP Rear & 10.8 MP Front Camera   \n",
       "913       12 MP + 12 MP Dual Rear & 12 MP Front Camera   \n",
       "914       12 MP + 12 MP Dual Rear & 12 MP Front Camera   \n",
       "\n",
       "                          card         os  \n",
       "439  Memory Card Not Supported    iOS v15  \n",
       "448  Memory Card Not Supported    iOS v15  \n",
       "628  Memory Card Not Supported  iOS v14.0  \n",
       "762  Memory Card Not Supported    iOS v16  \n",
       "913  Memory Card Not Supported    iOS v14  \n",
       "914  Memory Card Not Supported    iOS v14  "
      ]
     },
     "execution_count": 181,
     "metadata": {},
     "output_type": "execute_result"
    }
   ],
   "source": [
    "df[df['index'].isin(display_row)]"
   ]
  },
  {
   "cell_type": "code",
   "execution_count": 182,
   "metadata": {},
   "outputs": [
    {
     "data": {
      "text/html": [
       "<div>\n",
       "<style scoped>\n",
       "    .dataframe tbody tr th:only-of-type {\n",
       "        vertical-align: middle;\n",
       "    }\n",
       "\n",
       "    .dataframe tbody tr th {\n",
       "        vertical-align: top;\n",
       "    }\n",
       "\n",
       "    .dataframe thead th {\n",
       "        text-align: right;\n",
       "    }\n",
       "</style>\n",
       "<table border=\"1\" class=\"dataframe\">\n",
       "  <thead>\n",
       "    <tr style=\"text-align: right;\">\n",
       "      <th></th>\n",
       "      <th>index</th>\n",
       "      <th>model</th>\n",
       "      <th>price</th>\n",
       "      <th>rating</th>\n",
       "      <th>sim</th>\n",
       "      <th>processor</th>\n",
       "      <th>ram</th>\n",
       "      <th>battery</th>\n",
       "      <th>display</th>\n",
       "      <th>camera</th>\n",
       "      <th>card</th>\n",
       "      <th>os</th>\n",
       "    </tr>\n",
       "  </thead>\n",
       "  <tbody>\n",
       "    <tr>\n",
       "      <th>98</th>\n",
       "      <td>100</td>\n",
       "      <td>Vivo X Fold 5G</td>\n",
       "      <td>106990</td>\n",
       "      <td>NaN</td>\n",
       "      <td>Dual Sim, 3G, 4G, 5G, VoLTE, Wi-Fi, NFC</td>\n",
       "      <td>Snapdragon 8 Gen1, Octa Core, 3 GHz Processor</td>\n",
       "      <td>12 GB RAM, 256 GB inbuilt</td>\n",
       "      <td>4600 mAh Battery with 66W Fast Charging</td>\n",
       "      <td>8.03 inches, 1916 x 2160 px, 120 Hz Display</td>\n",
       "      <td>Foldable Display</td>\n",
       "      <td>50 MP Quad Rear &amp; 16 MP Front Camera</td>\n",
       "      <td>Android v12</td>\n",
       "    </tr>\n",
       "    <tr>\n",
       "      <th>111</th>\n",
       "      <td>113</td>\n",
       "      <td>Apple iPhone 12</td>\n",
       "      <td>51999</td>\n",
       "      <td>74.0</td>\n",
       "      <td>Dual Sim, 3G, 4G, 5G, VoLTE, Wi-Fi, NFC</td>\n",
       "      <td>Bionic A14, Hexa Core, 3.1 GHz Processor</td>\n",
       "      <td>4 GB RAM, 64 GB inbuilt</td>\n",
       "      <td>None</td>\n",
       "      <td>6.1 inches, 1170 x 2532 px Display with Large ...</td>\n",
       "      <td>12 MP + 12 MP Dual Rear &amp; 12 MP Front Camera</td>\n",
       "      <td>Memory Card Not Supported</td>\n",
       "      <td>iOS v14</td>\n",
       "    </tr>\n",
       "    <tr>\n",
       "      <th>149</th>\n",
       "      <td>151</td>\n",
       "      <td>Apple iPhone 12 Mini</td>\n",
       "      <td>40999</td>\n",
       "      <td>74.0</td>\n",
       "      <td>Dual Sim, 3G, 4G, 5G, VoLTE, Wi-Fi, NFC</td>\n",
       "      <td>Bionic A14, Hexa Core, 3.1 GHz Processor</td>\n",
       "      <td>4 GB RAM, 64 GB inbuilt</td>\n",
       "      <td>None</td>\n",
       "      <td>5.4 inches, 1080 x 2340 px Display</td>\n",
       "      <td>12 MP + 12 MP Dual Rear &amp; 12 MP Front Camera</td>\n",
       "      <td>Memory Card Not Supported</td>\n",
       "      <td>iOS v14</td>\n",
       "    </tr>\n",
       "    <tr>\n",
       "      <th>159</th>\n",
       "      <td>161</td>\n",
       "      <td>Oppo Find N2 5G</td>\n",
       "      <td>94990</td>\n",
       "      <td>NaN</td>\n",
       "      <td>Dual Sim, 3G, 4G, 5G, VoLTE, Wi-Fi, NFC</td>\n",
       "      <td>Snapdragon 8+ Gen1, Octa Core, 3.2 GHz Processor</td>\n",
       "      <td>12 GB RAM, 256 GB inbuilt</td>\n",
       "      <td>4520 mAh Battery with 67W Fast Charging</td>\n",
       "      <td>7.1 inches, 1792 x 1920 px, 120 Hz Display wit...</td>\n",
       "      <td>Foldable Display, Dual Display</td>\n",
       "      <td>50 MP + 48 MP + 32 MP Triple Rear &amp; 32 MP + 32...</td>\n",
       "      <td>Memory Card Not Supported</td>\n",
       "    </tr>\n",
       "    <tr>\n",
       "      <th>236</th>\n",
       "      <td>238</td>\n",
       "      <td>Xiaomi Mix Fold 2 5G</td>\n",
       "      <td>106990</td>\n",
       "      <td>NaN</td>\n",
       "      <td>Dual Sim, 3G, 4G, 5G, VoLTE, Wi-Fi, NFC, IR Bl...</td>\n",
       "      <td>Snapdragon  8+ Gen1 , Octa Core, 3.2 GHz Proce...</td>\n",
       "      <td>12 GB RAM, 256 GB inbuilt</td>\n",
       "      <td>4500 mAh Battery with 67W Fast Charging</td>\n",
       "      <td>8.02 inches, 1914 x 2160 px, 120 Hz Display wi...</td>\n",
       "      <td>Foldable Display, Dual Display</td>\n",
       "      <td>50 MP + 13 MP + 8 MP Triple Rear &amp; 20 MP Front...</td>\n",
       "      <td>Android v12</td>\n",
       "    </tr>\n",
       "    <tr>\n",
       "      <th>...</th>\n",
       "      <td>...</td>\n",
       "      <td>...</td>\n",
       "      <td>...</td>\n",
       "      <td>...</td>\n",
       "      <td>...</td>\n",
       "      <td>...</td>\n",
       "      <td>...</td>\n",
       "      <td>...</td>\n",
       "      <td>...</td>\n",
       "      <td>...</td>\n",
       "      <td>...</td>\n",
       "      <td>...</td>\n",
       "    </tr>\n",
       "    <tr>\n",
       "      <th>914</th>\n",
       "      <td>916</td>\n",
       "      <td>Apple iPhone 12 (256GB)</td>\n",
       "      <td>67999</td>\n",
       "      <td>76.0</td>\n",
       "      <td>Dual Sim, 3G, 4G, 5G, VoLTE, Wi-Fi, NFC</td>\n",
       "      <td>Bionic A14, Hexa Core, 3.1 GHz Processor</td>\n",
       "      <td>4 GB RAM, 256 GB inbuilt</td>\n",
       "      <td>None</td>\n",
       "      <td>6.1 inches, 1170 x 2532 px Display with Large ...</td>\n",
       "      <td>12 MP + 12 MP Dual Rear &amp; 12 MP Front Camera</td>\n",
       "      <td>Memory Card Not Supported</td>\n",
       "      <td>iOS v14</td>\n",
       "    </tr>\n",
       "    <tr>\n",
       "      <th>943</th>\n",
       "      <td>945</td>\n",
       "      <td>Samsung Galaxy Z Fold 4 (12GB RAM + 1TB)</td>\n",
       "      <td>163980</td>\n",
       "      <td>NaN</td>\n",
       "      <td>Dual Sim, 3G, 4G, 5G, VoLTE, Wi-Fi, NFC</td>\n",
       "      <td>Snapdragon  8+ Gen1, Octa Core, 3.2 GHz Processor</td>\n",
       "      <td>12 GB RAM, 1 TB inbuilt</td>\n",
       "      <td>4400 mAh Battery with 25W Fast Charging</td>\n",
       "      <td>7.6 inches, 1812 x 2176 px, 120 Hz Display wit...</td>\n",
       "      <td>Foldable Display, Dual Display</td>\n",
       "      <td>50 MP + 12 MP + 10 MP Triple Rear &amp; 10 MP + 4 ...</td>\n",
       "      <td>Android v12</td>\n",
       "    </tr>\n",
       "    <tr>\n",
       "      <th>954</th>\n",
       "      <td>956</td>\n",
       "      <td>Vivo X Fold 5G (12GB RAM + 512GB)</td>\n",
       "      <td>118990</td>\n",
       "      <td>NaN</td>\n",
       "      <td>Dual Sim, 3G, 4G, 5G, VoLTE, Wi-Fi, NFC</td>\n",
       "      <td>Snapdragon 8 Gen1, Octa Core, 3 GHz Processor</td>\n",
       "      <td>12 GB RAM, 512 GB inbuilt</td>\n",
       "      <td>4600 mAh Battery with 66W Fast Charging</td>\n",
       "      <td>8.03 inches, 1916 x 2160 px, 120 Hz Display</td>\n",
       "      <td>Foldable Display</td>\n",
       "      <td>50 MP Quad Rear &amp; 16 MP Front Camera</td>\n",
       "      <td>Android v12</td>\n",
       "    </tr>\n",
       "    <tr>\n",
       "      <th>993</th>\n",
       "      <td>995</td>\n",
       "      <td>Huawei Mate X</td>\n",
       "      <td>169000</td>\n",
       "      <td>NaN</td>\n",
       "      <td>Dual Sim, 3G, 4G, 5G, VoLTE, Wi-Fi, NFC, IR Bl...</td>\n",
       "      <td>Kirin  990, Octa Core, 2.86 GHz Processor</td>\n",
       "      <td>8 GB RAM, 512 GB inbuilt</td>\n",
       "      <td>4500 mAh Battery with 55W Fast Charging</td>\n",
       "      <td>8 inches, 2200 x 2480 px Display</td>\n",
       "      <td>Foldable Display</td>\n",
       "      <td>48 MP Quad Rear Camera</td>\n",
       "      <td>Memory Card (Hybrid), upto 256 GB</td>\n",
       "    </tr>\n",
       "    <tr>\n",
       "      <th>1014</th>\n",
       "      <td>1016</td>\n",
       "      <td>Vivo X Fold 2</td>\n",
       "      <td>119990</td>\n",
       "      <td>NaN</td>\n",
       "      <td>Dual Sim, 3G, 4G, 5G, VoLTE, Wi-Fi, NFC</td>\n",
       "      <td>Snapdragon 8 Gen2, Octa Core, 3.2 GHz Processor</td>\n",
       "      <td>12 GB RAM, 256 GB inbuilt</td>\n",
       "      <td>4800 mAh Battery with 66W Fast Charging</td>\n",
       "      <td>8.03 inches, 1916 x 2160 px, 120 Hz Display</td>\n",
       "      <td>Foldable Display</td>\n",
       "      <td>50 MP + 50 MP + 10 MP Triple Rear &amp; 32 MP Fron...</td>\n",
       "      <td>Android v12</td>\n",
       "    </tr>\n",
       "  </tbody>\n",
       "</table>\n",
       "<p>37 rows × 12 columns</p>\n",
       "</div>"
      ],
      "text/plain": [
       "      index                                     model   price  rating  \\\n",
       "98      100                            Vivo X Fold 5G  106990     NaN   \n",
       "111     113                           Apple iPhone 12   51999    74.0   \n",
       "149     151                      Apple iPhone 12 Mini   40999    74.0   \n",
       "159     161                           Oppo Find N2 5G   94990     NaN   \n",
       "236     238                      Xiaomi Mix Fold 2 5G  106990     NaN   \n",
       "...     ...                                       ...     ...     ...   \n",
       "914     916                   Apple iPhone 12 (256GB)   67999    76.0   \n",
       "943     945  Samsung Galaxy Z Fold 4 (12GB RAM + 1TB)  163980     NaN   \n",
       "954     956         Vivo X Fold 5G (12GB RAM + 512GB)  118990     NaN   \n",
       "993     995                             Huawei Mate X  169000     NaN   \n",
       "1014   1016                             Vivo X Fold 2  119990     NaN   \n",
       "\n",
       "                                                    sim  \\\n",
       "98              Dual Sim, 3G, 4G, 5G, VoLTE, Wi-Fi, NFC   \n",
       "111             Dual Sim, 3G, 4G, 5G, VoLTE, Wi-Fi, NFC   \n",
       "149             Dual Sim, 3G, 4G, 5G, VoLTE, Wi-Fi, NFC   \n",
       "159             Dual Sim, 3G, 4G, 5G, VoLTE, Wi-Fi, NFC   \n",
       "236   Dual Sim, 3G, 4G, 5G, VoLTE, Wi-Fi, NFC, IR Bl...   \n",
       "...                                                 ...   \n",
       "914             Dual Sim, 3G, 4G, 5G, VoLTE, Wi-Fi, NFC   \n",
       "943             Dual Sim, 3G, 4G, 5G, VoLTE, Wi-Fi, NFC   \n",
       "954             Dual Sim, 3G, 4G, 5G, VoLTE, Wi-Fi, NFC   \n",
       "993   Dual Sim, 3G, 4G, 5G, VoLTE, Wi-Fi, NFC, IR Bl...   \n",
       "1014            Dual Sim, 3G, 4G, 5G, VoLTE, Wi-Fi, NFC   \n",
       "\n",
       "                                              processor  \\\n",
       "98        Snapdragon 8 Gen1, Octa Core, 3 GHz Processor   \n",
       "111            Bionic A14, Hexa Core, 3.1 GHz Processor   \n",
       "149            Bionic A14, Hexa Core, 3.1 GHz Processor   \n",
       "159    Snapdragon 8+ Gen1, Octa Core, 3.2 GHz Processor   \n",
       "236   Snapdragon  8+ Gen1 , Octa Core, 3.2 GHz Proce...   \n",
       "...                                                 ...   \n",
       "914            Bionic A14, Hexa Core, 3.1 GHz Processor   \n",
       "943   Snapdragon  8+ Gen1, Octa Core, 3.2 GHz Processor   \n",
       "954       Snapdragon 8 Gen1, Octa Core, 3 GHz Processor   \n",
       "993           Kirin  990, Octa Core, 2.86 GHz Processor   \n",
       "1014    Snapdragon 8 Gen2, Octa Core, 3.2 GHz Processor   \n",
       "\n",
       "                            ram                                  battery  \\\n",
       "98    12 GB RAM, 256 GB inbuilt  4600 mAh Battery with 66W Fast Charging   \n",
       "111     4 GB RAM, 64 GB inbuilt                                     None   \n",
       "149     4 GB RAM, 64 GB inbuilt                                     None   \n",
       "159   12 GB RAM, 256 GB inbuilt  4520 mAh Battery with 67W Fast Charging   \n",
       "236   12 GB RAM, 256 GB inbuilt  4500 mAh Battery with 67W Fast Charging   \n",
       "...                         ...                                      ...   \n",
       "914    4 GB RAM, 256 GB inbuilt                                     None   \n",
       "943     12 GB RAM, 1 TB inbuilt  4400 mAh Battery with 25W Fast Charging   \n",
       "954   12 GB RAM, 512 GB inbuilt  4600 mAh Battery with 66W Fast Charging   \n",
       "993    8 GB RAM, 512 GB inbuilt  4500 mAh Battery with 55W Fast Charging   \n",
       "1014  12 GB RAM, 256 GB inbuilt  4800 mAh Battery with 66W Fast Charging   \n",
       "\n",
       "                                                display  \\\n",
       "98          8.03 inches, 1916 x 2160 px, 120 Hz Display   \n",
       "111   6.1 inches, 1170 x 2532 px Display with Large ...   \n",
       "149                  5.4 inches, 1080 x 2340 px Display   \n",
       "159   7.1 inches, 1792 x 1920 px, 120 Hz Display wit...   \n",
       "236   8.02 inches, 1914 x 2160 px, 120 Hz Display wi...   \n",
       "...                                                 ...   \n",
       "914   6.1 inches, 1170 x 2532 px Display with Large ...   \n",
       "943   7.6 inches, 1812 x 2176 px, 120 Hz Display wit...   \n",
       "954         8.03 inches, 1916 x 2160 px, 120 Hz Display   \n",
       "993                    8 inches, 2200 x 2480 px Display   \n",
       "1014        8.03 inches, 1916 x 2160 px, 120 Hz Display   \n",
       "\n",
       "                                            camera  \\\n",
       "98                                Foldable Display   \n",
       "111   12 MP + 12 MP Dual Rear & 12 MP Front Camera   \n",
       "149   12 MP + 12 MP Dual Rear & 12 MP Front Camera   \n",
       "159                 Foldable Display, Dual Display   \n",
       "236                 Foldable Display, Dual Display   \n",
       "...                                            ...   \n",
       "914   12 MP + 12 MP Dual Rear & 12 MP Front Camera   \n",
       "943                 Foldable Display, Dual Display   \n",
       "954                               Foldable Display   \n",
       "993                               Foldable Display   \n",
       "1014                              Foldable Display   \n",
       "\n",
       "                                                   card  \\\n",
       "98                 50 MP Quad Rear & 16 MP Front Camera   \n",
       "111                           Memory Card Not Supported   \n",
       "149                           Memory Card Not Supported   \n",
       "159   50 MP + 48 MP + 32 MP Triple Rear & 32 MP + 32...   \n",
       "236   50 MP + 13 MP + 8 MP Triple Rear & 20 MP Front...   \n",
       "...                                                 ...   \n",
       "914                           Memory Card Not Supported   \n",
       "943   50 MP + 12 MP + 10 MP Triple Rear & 10 MP + 4 ...   \n",
       "954                50 MP Quad Rear & 16 MP Front Camera   \n",
       "993                              48 MP Quad Rear Camera   \n",
       "1014  50 MP + 50 MP + 10 MP Triple Rear & 32 MP Fron...   \n",
       "\n",
       "                                     os  \n",
       "98                          Android v12  \n",
       "111                             iOS v14  \n",
       "149                             iOS v14  \n",
       "159           Memory Card Not Supported  \n",
       "236                         Android v12  \n",
       "...                                 ...  \n",
       "914                             iOS v14  \n",
       "943                         Android v12  \n",
       "954                         Android v12  \n",
       "993   Memory Card (Hybrid), upto 256 GB  \n",
       "1014                        Android v12  \n",
       "\n",
       "[37 rows x 12 columns]"
      ]
     },
     "execution_count": 182,
     "metadata": {},
     "output_type": "execute_result"
    }
   ],
   "source": [
    "df[df['index'].isin(camera_row)]"
   ]
  },
  {
   "cell_type": "code",
   "execution_count": 183,
   "metadata": {},
   "outputs": [],
   "source": [
    "temp_df = df[df['camera'].str.contains('Display')]"
   ]
  },
  {
   "cell_type": "code",
   "execution_count": 184,
   "metadata": {},
   "outputs": [],
   "source": [
    "df.loc[temp_df.index,'camera'] = temp_df['card'].values"
   ]
  },
  {
   "cell_type": "code",
   "execution_count": 185,
   "metadata": {},
   "outputs": [],
   "source": [
    "temp_df = df[df['card'].str.contains('MP')] "
   ]
  },
  {
   "cell_type": "code",
   "execution_count": 186,
   "metadata": {},
   "outputs": [],
   "source": [
    "df.loc[temp_df.index,'card'] = 'Memory Card Not Supported'"
   ]
  },
  {
   "cell_type": "code",
   "execution_count": 187,
   "metadata": {},
   "outputs": [
    {
     "data": {
      "text/plain": [
       "card\n",
       "Memory Card Supported, upto 1 TB      171\n",
       "Memory Card Not Supported             149\n",
       "Android v12                           107\n",
       "Memory Card Supported, upto 512 GB    105\n",
       "Memory Card (Hybrid), upto 1 TB        91\n",
       "                                     ... \n",
       "Android v10.0                           1\n",
       "iOS v13                                 1\n",
       "HarmonyOS v2.0                          1\n",
       "Memory Card (Hybrid), upto 2 TB         1\n",
       "HarmonyOS                               1\n",
       "Name: count, Length: 27, dtype: int64"
      ]
     },
     "execution_count": 187,
     "metadata": {},
     "output_type": "execute_result"
    }
   ],
   "source": [
    "df['card'].value_counts()"
   ]
  },
  {
   "cell_type": "code",
   "execution_count": 188,
   "metadata": {},
   "outputs": [],
   "source": [
    "temp_df = df[~df['card'].str.contains('Memory Card')]"
   ]
  },
  {
   "cell_type": "code",
   "execution_count": 189,
   "metadata": {},
   "outputs": [],
   "source": [
    "df.loc[temp_df.index,'os'] = temp_df['card'].values"
   ]
  },
  {
   "cell_type": "code",
   "execution_count": 190,
   "metadata": {},
   "outputs": [],
   "source": [
    "df.loc[temp_df.index,'card'] = 'Memory Card Not Supported'"
   ]
  },
  {
   "cell_type": "code",
   "execution_count": 191,
   "metadata": {},
   "outputs": [
    {
     "data": {
      "text/plain": [
       "card\n",
       "Memory Card Not Supported              361\n",
       "Memory Card Supported, upto 1 TB       171\n",
       "Memory Card Supported, upto 512 GB     105\n",
       "Memory Card (Hybrid), upto 1 TB         91\n",
       "Memory Card Supported                   88\n",
       "Memory Card Supported, upto 256 GB      86\n",
       "Memory Card (Hybrid)                    29\n",
       "Memory Card (Hybrid), upto 256 GB       13\n",
       "Memory Card (Hybrid), upto 512 GB       11\n",
       "Memory Card Supported, upto 128 GB       6\n",
       "Memory Card Supported, upto 2 TB         5\n",
       "Memory Card Supported, upto 32 GB        4\n",
       "Memory Card (Hybrid), upto 128 GB        3\n",
       "Memory Card (Hybrid), upto 64 GB         3\n",
       "Memory Card Supported, upto 1000 GB      1\n",
       "Memory Card (Hybrid), upto 2 TB          1\n",
       "Name: count, dtype: int64"
      ]
     },
     "execution_count": 191,
     "metadata": {},
     "output_type": "execute_result"
    }
   ],
   "source": [
    "df['card'].value_counts()"
   ]
  },
  {
   "cell_type": "code",
   "execution_count": 192,
   "metadata": {},
   "outputs": [],
   "source": [
    "temp_df= df[df['os'].str.contains('Supported')]"
   ]
  },
  {
   "cell_type": "code",
   "execution_count": 193,
   "metadata": {},
   "outputs": [],
   "source": [
    "df.loc[temp_df.index,'card'] = temp_df['os'].values"
   ]
  },
  {
   "cell_type": "code",
   "execution_count": 194,
   "metadata": {},
   "outputs": [],
   "source": [
    "df[df['os'].str.contains('Memory')] = np.nan"
   ]
  },
  {
   "cell_type": "code",
   "execution_count": 195,
   "metadata": {},
   "outputs": [
    {
     "data": {
      "text/plain": [
       "os\n",
       "Android v12           393\n",
       "Android v11           273\n",
       "Android v13            91\n",
       "Android v10            68\n",
       "Android v9.0 (Pie)     29\n",
       "                     ... \n",
       "iOS v17                 1\n",
       "iOS v12.3               1\n",
       "iOS v13.0               1\n",
       "HarmonyOS v2            1\n",
       "Android v9 (Pie)        1\n",
       "Name: count, Length: 37, dtype: int64"
      ]
     },
     "execution_count": 195,
     "metadata": {},
     "output_type": "execute_result"
    }
   ],
   "source": [
    "df['os'].value_counts()"
   ]
  },
  {
   "cell_type": "code",
   "execution_count": 196,
   "metadata": {},
   "outputs": [
    {
     "data": {
      "text/plain": [
       "95.88235294117648"
      ]
     },
     "execution_count": 196,
     "metadata": {},
     "output_type": "execute_result"
    }
   ],
   "source": [
    "# data we have lost during the cleaning\n",
    "df.shape[0]/df1.shape[0]*100"
   ]
  },
  {
   "cell_type": "code",
   "execution_count": 197,
   "metadata": {},
   "outputs": [
    {
     "data": {
      "text/plain": [
       "(978, 12)"
      ]
     },
     "execution_count": 197,
     "metadata": {},
     "output_type": "execute_result"
    }
   ],
   "source": [
    "df.shape"
   ]
  },
  {
   "cell_type": "code",
   "execution_count": 198,
   "metadata": {},
   "outputs": [
    {
     "data": {
      "text/plain": [
       "ram\n",
       "8 GB RAM, 128 GB inbuilt     260\n",
       "6 GB RAM, 128 GB inbuilt     189\n",
       "4 GB RAM, 64 GB inbuilt      142\n",
       "8 GB RAM, 256 GB inbuilt      69\n",
       "12 GB RAM, 256 GB inbuilt     68\n",
       "                            ... \n",
       "512 GB inbuilt                 1\n",
       "512 MB RAM, 4 GB inbuilt       1\n",
       "64 MB RAM, 128 MB inbuilt      1\n",
       "4 GB RAM, 512 GB inbuilt       1\n",
       "12 GB RAM, 1 TB inbuilt        1\n",
       "Name: count, Length: 31, dtype: int64"
      ]
     },
     "execution_count": 198,
     "metadata": {},
     "output_type": "execute_result"
    }
   ],
   "source": [
    "df['ram'].value_counts()"
   ]
  },
  {
   "cell_type": "code",
   "execution_count": 199,
   "metadata": {},
   "outputs": [],
   "source": [
    "df.to_csv('cleaned.csv')"
   ]
  },
  {
   "cell_type": "code",
   "execution_count": 200,
   "metadata": {},
   "outputs": [],
   "source": [
    "device_name = df['model'].str.split(' ').str.get(0)"
   ]
  },
  {
   "cell_type": "code",
   "execution_count": 201,
   "metadata": {},
   "outputs": [],
   "source": [
    "df.insert(1,'brand_name',device_name)\n",
    "\n",
    "df['brand_name']= df['brand_name'].str.lower()"
   ]
  },
  {
   "cell_type": "code",
   "execution_count": 202,
   "metadata": {},
   "outputs": [
    {
     "data": {
      "text/plain": [
       "sim\n",
       "Dual Sim, 3G, 4G, VoLTE, Wi-Fi                               314\n",
       "Dual Sim, 3G, 4G, 5G, VoLTE, Wi-Fi, NFC                      262\n",
       "Dual Sim, 3G, 4G, 5G, VoLTE, Wi-Fi                           153\n",
       "Dual Sim, 3G, 4G, 5G, VoLTE, Wi-Fi, IR Blaster                54\n",
       "Dual Sim, 3G, 4G, 5G, VoLTE, Wi-Fi, NFC, IR Blaster           51\n",
       "                                                            ... \n",
       "Dual Sim, 3G, Wi-Fi                                            1\n",
       "Single Sim, 3G, 4G, 5G, VoLTE, Wi-Fi                           1\n",
       "Dual Sim, 3G, 4G, VoLTE                                        1\n",
       "Single Sim, 3G, 4G, Wi-Fi, NFC                                 1\n",
       "Dual Sim, 3G, 4G, 5G, VoLTE, Vo5G, Wi-Fi, NFC, IR Blaster      1\n",
       "Name: count, Length: 21, dtype: int64"
      ]
     },
     "execution_count": 202,
     "metadata": {},
     "output_type": "execute_result"
    }
   ],
   "source": [
    "df['sim'].value_counts()"
   ]
  },
  {
   "cell_type": "code",
   "execution_count": 203,
   "metadata": {},
   "outputs": [],
   "source": [
    "has_5g = df['sim'].str.contains('5G')\n",
    "has_nfc = df['sim'].str.contains('NFC')\n",
    "has_ir_baster = df['sim'].str.contains('IR Blaster')"
   ]
  },
  {
   "cell_type": "code",
   "execution_count": 204,
   "metadata": {},
   "outputs": [],
   "source": [
    "df.insert(6,'has_5g',has_5g)\n",
    "df.insert(7,'has_nfc',has_nfc)\n",
    "df.insert(8,'has_ir_baster',has_ir_baster)"
   ]
  },
  {
   "cell_type": "code",
   "execution_count": 205,
   "metadata": {},
   "outputs": [],
   "source": [
    "processor_name = df['processor'].str.split(',').str.get(0)\n",
    "processor_core = df['processor'].str.split(',').str.get(1)\n",
    "processor_speed = df['processor'].str.split(',').str.get(2)"
   ]
  },
  {
   "cell_type": "code",
   "execution_count": 206,
   "metadata": {},
   "outputs": [],
   "source": [
    "df.insert(10,'processor_speed',processor_speed)\n",
    "df.insert(11,'processor_core',processor_core)\n",
    "df.insert(12,'processor_name',processor_name)"
   ]
  },
  {
   "cell_type": "code",
   "execution_count": 207,
   "metadata": {},
   "outputs": [],
   "source": [
    "df['processor_name'] = df['processor_name'].str.strip()"
   ]
  },
  {
   "cell_type": "code",
   "execution_count": 208,
   "metadata": {},
   "outputs": [],
   "source": [
    "temp_df = df[df['processor_core'].str.contains('GHz Processor',na=True)]"
   ]
  },
  {
   "cell_type": "code",
   "execution_count": 209,
   "metadata": {},
   "outputs": [],
   "source": [
    "df.loc[temp_df.index,'processor_speed'] = temp_df['processor_core'].values"
   ]
  },
  {
   "cell_type": "code",
   "execution_count": 210,
   "metadata": {},
   "outputs": [],
   "source": [
    "df[df['processor_core'].str.contains('GHz Processor',na=True)] = np.nan"
   ]
  },
  {
   "cell_type": "code",
   "execution_count": 211,
   "metadata": {},
   "outputs": [
    {
     "data": {
      "text/plain": [
       "processor_core\n",
       " Octa Core              850\n",
       " Hexa Core               31\n",
       " Quad Core               29\n",
       " Octa Core Processor     19\n",
       " Hexa Core Processor      8\n",
       "Name: count, dtype: int64"
      ]
     },
     "execution_count": 211,
     "metadata": {},
     "output_type": "execute_result"
    }
   ],
   "source": [
    "df['processor_core'].value_counts()"
   ]
  },
  {
   "cell_type": "code",
   "execution_count": 212,
   "metadata": {},
   "outputs": [],
   "source": [
    "df['processor_core']= df['processor_core'].str.replace('Processor','').str.strip()"
   ]
  },
  {
   "cell_type": "code",
   "execution_count": 213,
   "metadata": {},
   "outputs": [],
   "source": [
    "processor_brand = df['processor_name'].str.split(' ').str.get(0).str.lower()"
   ]
  },
  {
   "cell_type": "code",
   "execution_count": 214,
   "metadata": {},
   "outputs": [],
   "source": [
    "df.insert(10,'processor_brand',processor_brand)"
   ]
  },
  {
   "cell_type": "code",
   "execution_count": 215,
   "metadata": {},
   "outputs": [],
   "source": [
    "df['processor_speed']= df['processor_speed'].str.strip().str.split(',').str.get(0).str.split(' ').str.get(0)"
   ]
  },
  {
   "cell_type": "code",
   "execution_count": 216,
   "metadata": {},
   "outputs": [],
   "source": [
    "df['processor_speed']= df['processor_speed'].str.split(' ').str.get(0).str.replace('\\u2009',' ').str.split(' ').str.get(0).astype(float)"
   ]
  },
  {
   "cell_type": "code",
   "execution_count": 217,
   "metadata": {},
   "outputs": [],
   "source": [
    "internal_ram = df['ram'].str.split(',').str.get(0)\n",
    "internal_memory = df['ram'].str.split(',').str.get(1)"
   ]
  },
  {
   "cell_type": "code",
   "execution_count": 218,
   "metadata": {},
   "outputs": [],
   "source": [
    "df.insert(12,'internal_ram',internal_ram)\n",
    "df.insert(13,'internal_memory',internal_memory)"
   ]
  },
  {
   "cell_type": "code",
   "execution_count": 219,
   "metadata": {},
   "outputs": [],
   "source": [
    "df['internal_memory']= df['internal_memory'].str.strip().str.split(' ').str.get(0).str.findall(r'\\d+').str.get(0)"
   ]
  },
  {
   "cell_type": "code",
   "execution_count": 220,
   "metadata": {},
   "outputs": [],
   "source": [
    "df['internal_ram'] = df['internal_ram'].str.strip().str.split(' ').str.get(0).str.findall(r'\\d+').str.get(0)"
   ]
  },
  {
   "cell_type": "code",
   "execution_count": 221,
   "metadata": {},
   "outputs": [],
   "source": [
    "df.drop(columns='ram',inplace=True)"
   ]
  },
  {
   "cell_type": "code",
   "execution_count": 222,
   "metadata": {},
   "outputs": [],
   "source": [
    "size = df['display'].str.split(',').str.get(0)\n",
    "height = df['display'].str.split(',').str.get(1).str.split('x').str.get(0)\n",
    "width = df['display'].str.split(',').str.get(1).str.split('x').str.get(1)\n",
    "refresh_rate = df['display'].str.split(',').str.get(2)"
   ]
  },
  {
   "cell_type": "code",
   "execution_count": 223,
   "metadata": {},
   "outputs": [],
   "source": [
    "df.insert(14,'screen_size',size)\n",
    "df.insert(15,'screen_height',height)\n",
    "df.insert(16,'screen_width',width)\n",
    "df.insert(17,'refresh_rate',refresh_rate)"
   ]
  },
  {
   "cell_type": "code",
   "execution_count": 224,
   "metadata": {},
   "outputs": [],
   "source": [
    "df['screen_size'] = df['screen_size'].str.split(' ').str.get(0)"
   ]
  },
  {
   "cell_type": "code",
   "execution_count": 225,
   "metadata": {},
   "outputs": [],
   "source": [
    "df['screen_height']= df['screen_height'].str.replace('\\u2009',' ').str.strip().str.split(' ').str.get(0)"
   ]
  },
  {
   "cell_type": "code",
   "execution_count": 226,
   "metadata": {},
   "outputs": [],
   "source": [
    "df['screen_width']= df['screen_width'].str.replace('\\u2009',' ').str.strip().str.split(' ').str.get(0)"
   ]
  },
  {
   "cell_type": "code",
   "execution_count": 227,
   "metadata": {},
   "outputs": [],
   "source": [
    "df['refresh_rate'] = df['refresh_rate'].str.strip().str.split(' ').str.get(0)"
   ]
  },
  {
   "cell_type": "code",
   "execution_count": 228,
   "metadata": {},
   "outputs": [],
   "source": [
    "import re\n",
    "battery_mAh = df['battery'].str.split('with').str.get(0).str.findall(r'\\d+').str.get(0)\n",
    "fast_charging = df['battery'].str.split('with').str.get(1).str.findall(r'\\d+').str.get(0)"
   ]
  },
  {
   "cell_type": "code",
   "execution_count": 229,
   "metadata": {},
   "outputs": [],
   "source": [
    "df.insert(19,'battery_mAh',battery_mAh)\n",
    "df.insert(19,'fast_charging',fast_charging)"
   ]
  },
  {
   "cell_type": "code",
   "execution_count": 230,
   "metadata": {},
   "outputs": [],
   "source": [
    "pd.set_option('display.max.columns',None)\n",
    "pd.set_option('display.max.rows',20)"
   ]
  },
  {
   "cell_type": "code",
   "execution_count": 231,
   "metadata": {},
   "outputs": [],
   "source": [
    "def camera_extractor(text):\n",
    "\n",
    "  if 'Quad' in text:\n",
    "    return 4\n",
    "  elif 'Triple' in text:\n",
    "    return 3\n",
    "  elif 'Dual' in text:\n",
    "    return 2\n",
    "  elif 'Missing' in text:\n",
    "    return 'Missing'\n",
    "  else:\n",
    "    return 1\n"
   ]
  },
  {
   "cell_type": "code",
   "execution_count": 232,
   "metadata": {},
   "outputs": [],
   "source": [
    "df['camera'] = df['camera'].astype(str)\n",
    "num_front_cameras = df['camera'].str.strip().str.split('&').str.get(0).apply(camera_extractor)"
   ]
  },
  {
   "cell_type": "code",
   "execution_count": 233,
   "metadata": {},
   "outputs": [],
   "source": [
    "df.insert(21,'num_front_cameras',num_front_cameras)"
   ]
  },
  {
   "cell_type": "code",
   "execution_count": 234,
   "metadata": {},
   "outputs": [],
   "source": [
    "num_rear_cameras= df['camera'].str.strip().str.split('&').str.get(1).fillna('Missing').apply(camera_extractor)"
   ]
  },
  {
   "cell_type": "code",
   "execution_count": 235,
   "metadata": {},
   "outputs": [],
   "source": [
    "df.insert(22,'num_rear_cameras',num_rear_cameras)"
   ]
  },
  {
   "cell_type": "code",
   "execution_count": 236,
   "metadata": {},
   "outputs": [],
   "source": [
    "primary_camera_front = df['camera'].str.split('&').str.get(0).str.findall(r'\\d+').str.get(0)\n",
    "primary_camera_rear = df['camera'].str.split('&').str.get(1).str.findall(r'\\d+').str.get(0)"
   ]
  },
  {
   "cell_type": "code",
   "execution_count": 237,
   "metadata": {},
   "outputs": [],
   "source": [
    "df.insert(23,'primary_camera_front',primary_camera_front)\n",
    "df.insert(24,'primary_camera_rear',primary_camera_rear)"
   ]
  },
  {
   "cell_type": "code",
   "execution_count": 238,
   "metadata": {},
   "outputs": [
    {
     "data": {
      "text/plain": [
       "os\n",
       "Android v12                384\n",
       "Android v11                271\n",
       "Android v13                 89\n",
       "Android v10                 66\n",
       "Android v9.0 (Pie)          28\n",
       "                          ... \n",
       "Android v4.4.2 (KitKat)      1\n",
       "iOS v17                      1\n",
       "iOS v13.0                    1\n",
       "HarmonyOS v2                 1\n",
       "Android v9 (Pie)             1\n",
       "Name: count, Length: 35, dtype: int64"
      ]
     },
     "execution_count": 238,
     "metadata": {},
     "output_type": "execute_result"
    }
   ],
   "source": [
    "df['os'].value_counts()"
   ]
  },
  {
   "cell_type": "code",
   "execution_count": 239,
   "metadata": {},
   "outputs": [],
   "source": [
    "def os_extractor(text):\n",
    "\n",
    "  if 'Android' in text:\n",
    "    return 'android'\n",
    "  elif 'iOS' in text:\n",
    "    return 'ios'\n",
    "  elif 'Not Specified':\n",
    "    return text\n",
    "  elif 'Harmony' in text or 'Hongmeng' in text or 'EMUI' in text:\n",
    "    return 'other'"
   ]
  },
  {
   "cell_type": "code",
   "execution_count": 240,
   "metadata": {},
   "outputs": [],
   "source": [
    "df['os']= df['os'].astype(str).apply(os_extractor)"
   ]
  },
  {
   "cell_type": "code",
   "execution_count": 241,
   "metadata": {},
   "outputs": [
    {
     "data": {
      "text/plain": [
       "card\n",
       "Memory Card Not Supported              340\n",
       "Memory Card Supported, upto 1 TB       162\n",
       "Memory Card Supported, upto 512 GB     104\n",
       "Memory Card (Hybrid), upto 1 TB         91\n",
       "Memory Card Supported                   87\n",
       "Memory Card Supported, upto 256 GB      85\n",
       "Memory Card (Hybrid)                    28\n",
       "Memory Card (Hybrid), upto 256 GB       13\n",
       "Memory Card (Hybrid), upto 512 GB       11\n",
       "Memory Card Supported, upto 2 TB         5\n",
       "Memory Card Supported, upto 128 GB       5\n",
       "Memory Card (Hybrid), upto 64 GB         2\n",
       "Memory Card Supported, upto 1000 GB      1\n",
       "Memory Card Supported, upto 32 GB        1\n",
       "Memory Card (Hybrid), upto 128 GB        1\n",
       "Memory Card (Hybrid), upto 2 TB          1\n",
       "Name: count, dtype: int64"
      ]
     },
     "execution_count": 241,
     "metadata": {},
     "output_type": "execute_result"
    }
   ],
   "source": [
    "df['card'].value_counts()"
   ]
  },
  {
   "cell_type": "code",
   "execution_count": 242,
   "metadata": {},
   "outputs": [],
   "source": [
    "df = df[df['num_rear_cameras'] != 'Missing']"
   ]
  },
  {
   "cell_type": "code",
   "execution_count": 243,
   "metadata": {},
   "outputs": [
    {
     "data": {
      "text/plain": [
       "(934, 31)"
      ]
     },
     "execution_count": 243,
     "metadata": {},
     "output_type": "execute_result"
    }
   ],
   "source": [
    "df.shape"
   ]
  },
  {
   "cell_type": "code",
   "execution_count": 244,
   "metadata": {},
   "outputs": [],
   "source": [
    "df.drop(columns=['sim','processor','battery','display','camera','card'],inplace=True)"
   ]
  },
  {
   "cell_type": "code",
   "execution_count": 247,
   "metadata": {},
   "outputs": [],
   "source": [
    "df.to_csv('cleaned2.csv')"
   ]
  },
  {
   "cell_type": "code",
   "execution_count": 246,
   "metadata": {},
   "outputs": [
    {
     "data": {
      "text/html": [
       "<div>\n",
       "<style scoped>\n",
       "    .dataframe tbody tr th:only-of-type {\n",
       "        vertical-align: middle;\n",
       "    }\n",
       "\n",
       "    .dataframe tbody tr th {\n",
       "        vertical-align: top;\n",
       "    }\n",
       "\n",
       "    .dataframe thead th {\n",
       "        text-align: right;\n",
       "    }\n",
       "</style>\n",
       "<table border=\"1\" class=\"dataframe\">\n",
       "  <thead>\n",
       "    <tr style=\"text-align: right;\">\n",
       "      <th></th>\n",
       "      <th>index</th>\n",
       "      <th>brand_name</th>\n",
       "      <th>model</th>\n",
       "      <th>price</th>\n",
       "      <th>rating</th>\n",
       "      <th>has_5g</th>\n",
       "      <th>has_nfc</th>\n",
       "      <th>has_ir_baster</th>\n",
       "      <th>processor_brand</th>\n",
       "      <th>processor_speed</th>\n",
       "      <th>internal_ram</th>\n",
       "      <th>internal_memory</th>\n",
       "      <th>screen_size</th>\n",
       "      <th>screen_height</th>\n",
       "      <th>screen_width</th>\n",
       "      <th>refresh_rate</th>\n",
       "      <th>processor_core</th>\n",
       "      <th>fast_charging</th>\n",
       "      <th>battery_mAh</th>\n",
       "      <th>num_front_cameras</th>\n",
       "      <th>num_rear_cameras</th>\n",
       "      <th>primary_camera_front</th>\n",
       "      <th>primary_camera_rear</th>\n",
       "      <th>processor_name</th>\n",
       "      <th>os</th>\n",
       "    </tr>\n",
       "  </thead>\n",
       "  <tbody>\n",
       "    <tr>\n",
       "      <th>0</th>\n",
       "      <td>2.0</td>\n",
       "      <td>oneplus</td>\n",
       "      <td>OnePlus 11 5G</td>\n",
       "      <td>54999.0</td>\n",
       "      <td>89.0</td>\n",
       "      <td>True</td>\n",
       "      <td>True</td>\n",
       "      <td>False</td>\n",
       "      <td>snapdragon</td>\n",
       "      <td>3.2</td>\n",
       "      <td>12</td>\n",
       "      <td>256</td>\n",
       "      <td>6.7</td>\n",
       "      <td>1440</td>\n",
       "      <td>3216</td>\n",
       "      <td>120</td>\n",
       "      <td>Octa Core</td>\n",
       "      <td>100</td>\n",
       "      <td>5000</td>\n",
       "      <td>3</td>\n",
       "      <td>1</td>\n",
       "      <td>50</td>\n",
       "      <td>16</td>\n",
       "      <td>Snapdragon 8 Gen2</td>\n",
       "      <td>android</td>\n",
       "    </tr>\n",
       "    <tr>\n",
       "      <th>1</th>\n",
       "      <td>3.0</td>\n",
       "      <td>oneplus</td>\n",
       "      <td>OnePlus Nord CE 2 Lite 5G</td>\n",
       "      <td>19989.0</td>\n",
       "      <td>81.0</td>\n",
       "      <td>True</td>\n",
       "      <td>False</td>\n",
       "      <td>False</td>\n",
       "      <td>snapdragon</td>\n",
       "      <td>2.2</td>\n",
       "      <td>6</td>\n",
       "      <td>128</td>\n",
       "      <td>6.59</td>\n",
       "      <td>1080</td>\n",
       "      <td>2412</td>\n",
       "      <td>120</td>\n",
       "      <td>Octa Core</td>\n",
       "      <td>33</td>\n",
       "      <td>5000</td>\n",
       "      <td>3</td>\n",
       "      <td>1</td>\n",
       "      <td>64</td>\n",
       "      <td>16</td>\n",
       "      <td>Snapdragon 695</td>\n",
       "      <td>android</td>\n",
       "    </tr>\n",
       "  </tbody>\n",
       "</table>\n",
       "</div>"
      ],
      "text/plain": [
       "   index brand_name                      model    price  rating has_5g  \\\n",
       "0    2.0    oneplus              OnePlus 11 5G  54999.0    89.0   True   \n",
       "1    3.0    oneplus  OnePlus Nord CE 2 Lite 5G  19989.0    81.0   True   \n",
       "\n",
       "  has_nfc has_ir_baster processor_brand  processor_speed internal_ram  \\\n",
       "0    True         False      snapdragon              3.2           12   \n",
       "1   False         False      snapdragon              2.2            6   \n",
       "\n",
       "  internal_memory screen_size screen_height screen_width refresh_rate  \\\n",
       "0             256         6.7          1440         3216          120   \n",
       "1             128        6.59          1080         2412          120   \n",
       "\n",
       "  processor_core fast_charging battery_mAh  num_front_cameras  \\\n",
       "0      Octa Core           100        5000                  3   \n",
       "1      Octa Core            33        5000                  3   \n",
       "\n",
       "  num_rear_cameras primary_camera_front primary_camera_rear  \\\n",
       "0                1                   50                  16   \n",
       "1                1                   64                  16   \n",
       "\n",
       "      processor_name       os  \n",
       "0  Snapdragon 8 Gen2  android  \n",
       "1     Snapdragon 695  android  "
      ]
     },
     "execution_count": 246,
     "metadata": {},
     "output_type": "execute_result"
    }
   ],
   "source": [
    "df.head(2)"
   ]
  },
  {
   "cell_type": "code",
   "execution_count": null,
   "metadata": {},
   "outputs": [],
   "source": []
  },
  {
   "cell_type": "code",
   "execution_count": null,
   "metadata": {},
   "outputs": [],
   "source": []
  }
 ],
 "metadata": {
  "kernelspec": {
   "display_name": "Python 3",
   "language": "python",
   "name": "python3"
  },
  "language_info": {
   "codemirror_mode": {
    "name": "ipython",
    "version": 3
   },
   "file_extension": ".py",
   "mimetype": "text/x-python",
   "name": "python",
   "nbconvert_exporter": "python",
   "pygments_lexer": "ipython3",
   "version": "3.10.11"
  },
  "orig_nbformat": 4
 },
 "nbformat": 4,
 "nbformat_minor": 2
}
